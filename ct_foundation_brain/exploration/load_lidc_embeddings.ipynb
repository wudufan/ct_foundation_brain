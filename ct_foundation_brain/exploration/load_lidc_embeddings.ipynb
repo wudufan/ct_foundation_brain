{
 "cells": [
  {
   "cell_type": "code",
   "execution_count": 1,
   "metadata": {},
   "outputs": [
    {
     "data": {
      "text/plain": [
       "'\\nTest loading LIDC embeddings\\n'"
      ]
     },
     "execution_count": 1,
     "metadata": {},
     "output_type": "execute_result"
    }
   ],
   "source": [
    "'''\n",
    "Test loading LIDC embeddings\n",
    "'''"
   ]
  },
  {
   "cell_type": "code",
   "execution_count": 2,
   "metadata": {},
   "outputs": [],
   "source": [
    "from google.cloud import storage\n",
    "import numpy as np\n",
    "import pandas as pd\n",
    "\n",
    "project_id='hai-cd3-foundations'"
   ]
  },
  {
   "cell_type": "code",
   "execution_count": 3,
   "metadata": {},
   "outputs": [
    {
     "name": "stderr",
     "output_type": "stream",
     "text": [
      "/usr/local/lib/python3.11/dist-packages/google/auth/_default.py:76: UserWarning: Your application has authenticated using end user credentials from Google Cloud SDK without a quota project. You might receive a \"quota exceeded\" or \"API not enabled\" error. See the following page for troubleshooting: https://cloud.google.com/docs/authentication/adc-troubleshooting/user-creds. \n",
      "  warnings.warn(_CLOUD_SDK_CREDENTIALS_WARNING)\n"
     ]
    }
   ],
   "source": [
    "# GCS bucket with data to read:\n",
    "gcs_storage_client = storage.Client(project_id) # our bucket is in the same Google Cloud Project as the DicomStore\n",
    "gcs_bucket_name = 'hai-cd3-foundations-ct3d-vault-entry'# @param {type:\"string\"}\n",
    "gcs_bucket = gcs_storage_client.bucket(gcs_bucket_name)\n",
    "tune_path = 'nlst/nlst_tune_with_labels.npz' # @param {type:\"string\"}\n",
    "train_path = 'nlst/nlst_train_with_labels.npz' # @param {type:\"string\"}"
   ]
  },
  {
   "cell_type": "code",
   "execution_count": 4,
   "metadata": {},
   "outputs": [],
   "source": [
    "def read_embeddings(path):\n",
    "  blob = gcs_bucket.blob(path)\n",
    "  with blob.open('rb') as f:\n",
    "    data = np.load(f,allow_pickle=True)\n",
    "    key = data.files[0]\n",
    "    return pd.DataFrame.from_dict(data[key].item(), orient='index')\n",
    "\n",
    "df_tune = read_embeddings(tune_path)\n",
    "df_train = read_embeddings(train_path)"
   ]
  },
  {
   "cell_type": "code",
   "execution_count": 5,
   "metadata": {},
   "outputs": [
    {
     "name": "stdout",
     "output_type": "stream",
     "text": [
      "52696\n"
     ]
    },
    {
     "data": {
      "text/html": [
       "<div>\n",
       "<style scoped>\n",
       "    .dataframe tbody tr th:only-of-type {\n",
       "        vertical-align: middle;\n",
       "    }\n",
       "\n",
       "    .dataframe tbody tr th {\n",
       "        vertical-align: top;\n",
       "    }\n",
       "\n",
       "    .dataframe thead th {\n",
       "        text-align: right;\n",
       "    }\n",
       "</style>\n",
       "<table border=\"1\" class=\"dataframe\">\n",
       "  <thead>\n",
       "    <tr style=\"text-align: right;\">\n",
       "      <th></th>\n",
       "      <th>embedding</th>\n",
       "      <th>cancer_in_2</th>\n",
       "      <th>cancer_in_1</th>\n",
       "    </tr>\n",
       "  </thead>\n",
       "  <tbody>\n",
       "    <tr>\n",
       "      <th>NLST/100002/1.2.840.113654.2.55.187766322555605983451267194286230980878/1.2.840.113654.2.55.122344168497038128022524906545138736420</th>\n",
       "      <td>[0.08145948499441147, -0.09299539774656296, -1...</td>\n",
       "      <td>0</td>\n",
       "      <td>0</td>\n",
       "    </tr>\n",
       "    <tr>\n",
       "      <th>NLST/100002/1.2.840.113654.2.55.187766322555605983451267194286230980878/1.2.840.113654.2.55.97114726565566537928831413367474015470</th>\n",
       "      <td>[0.0760735422372818, -0.014014167711138725, -1...</td>\n",
       "      <td>0</td>\n",
       "      <td>0</td>\n",
       "    </tr>\n",
       "    <tr>\n",
       "      <th>NLST/100002/1.2.840.113654.2.55.68425808326883186792123057288612355322/1.2.840.113654.2.55.229650531101716203536241646069123704792</th>\n",
       "      <td>[-0.5301651954650879, -0.30354973673820496, -1...</td>\n",
       "      <td>0</td>\n",
       "      <td>0</td>\n",
       "    </tr>\n",
       "    <tr>\n",
       "      <th>NLST/100010/1.2.840.113654.2.55.189258816456856821179604788965174533184/1.2.840.113654.2.55.276563302369624088248926043668761106333</th>\n",
       "      <td>[0.4319751262664795, 0.015313171781599522, -1....</td>\n",
       "      <td>0</td>\n",
       "      <td>0</td>\n",
       "    </tr>\n",
       "    <tr>\n",
       "      <th>NLST/100010/1.2.840.113654.2.55.236467930500313421847662756581858562399/1.2.840.113654.2.55.279999410636649470637437295941702314952</th>\n",
       "      <td>[0.373812198638916, 0.3525012135505676, -1.205...</td>\n",
       "      <td>0</td>\n",
       "      <td>0</td>\n",
       "    </tr>\n",
       "  </tbody>\n",
       "</table>\n",
       "</div>"
      ],
      "text/plain": [
       "                                                                                            embedding  \\\n",
       "NLST/100002/1.2.840.113654.2.55.187766322555605...  [0.08145948499441147, -0.09299539774656296, -1...   \n",
       "NLST/100002/1.2.840.113654.2.55.187766322555605...  [0.0760735422372818, -0.014014167711138725, -1...   \n",
       "NLST/100002/1.2.840.113654.2.55.684258083268831...  [-0.5301651954650879, -0.30354973673820496, -1...   \n",
       "NLST/100010/1.2.840.113654.2.55.189258816456856...  [0.4319751262664795, 0.015313171781599522, -1....   \n",
       "NLST/100010/1.2.840.113654.2.55.236467930500313...  [0.373812198638916, 0.3525012135505676, -1.205...   \n",
       "\n",
       "                                                    cancer_in_2  cancer_in_1  \n",
       "NLST/100002/1.2.840.113654.2.55.187766322555605...            0            0  \n",
       "NLST/100002/1.2.840.113654.2.55.187766322555605...            0            0  \n",
       "NLST/100002/1.2.840.113654.2.55.684258083268831...            0            0  \n",
       "NLST/100010/1.2.840.113654.2.55.189258816456856...            0            0  \n",
       "NLST/100010/1.2.840.113654.2.55.236467930500313...            0            0  "
      ]
     },
     "execution_count": 5,
     "metadata": {},
     "output_type": "execute_result"
    }
   ],
   "source": [
    "print(len(df_train))\n",
    "df_train.head()"
   ]
  },
  {
   "cell_type": "code",
   "execution_count": null,
   "metadata": {},
   "outputs": [],
   "source": []
  }
 ],
 "metadata": {
  "kernelspec": {
   "display_name": "Python 3",
   "language": "python",
   "name": "python3"
  },
  "language_info": {
   "codemirror_mode": {
    "name": "ipython",
    "version": 3
   },
   "file_extension": ".py",
   "mimetype": "text/x-python",
   "name": "python",
   "nbconvert_exporter": "python",
   "pygments_lexer": "ipython3",
   "version": "3.11.0rc1"
  }
 },
 "nbformat": 4,
 "nbformat_minor": 2
}
